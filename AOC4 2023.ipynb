{
  "metadata": {
    "kernelspec": {
      "name": "python",
      "display_name": "Python (Pyodide)",
      "language": "python"
    },
    "language_info": {
      "codemirror_mode": {
        "name": "python",
        "version": 3
      },
      "file_extension": ".py",
      "mimetype": "text/x-python",
      "name": "python",
      "nbconvert_exporter": "python",
      "pygments_lexer": "ipython3",
      "version": "3.8"
    }
  },
  "nbformat_minor": 4,
  "nbformat": 4,
  "cells": [
    {
      "cell_type": "markdown",
      "source": "# Advent of Code 2023 Day 4: Scratchcards",
      "metadata": {}
    },
    {
      "cell_type": "markdown",
      "source": "### By: Wyatt Bruchhauser",
      "metadata": {}
    },
    {
      "cell_type": "markdown",
      "source": "This is a solution to the AOC 2023 Day 4 problem. I am trying a new technology for each day so in this one I want to use API Requests, Pandas, and Jupyter Notbooks",
      "metadata": {}
    },
    {
      "cell_type": "code",
      "source": "import pandas\npandas.__version__",
      "metadata": {
        "trusted": true
      },
      "outputs": [
        {
          "execution_count": 1,
          "output_type": "execute_result",
          "data": {
            "text/plain": "'1.5.3'"
          },
          "metadata": {}
        }
      ],
      "execution_count": 1
    },
    {
      "cell_type": "code",
      "source": "file = open(\"scratch.txt\", \"r\")",
      "metadata": {
        "trusted": true
      },
      "outputs": [],
      "execution_count": 2
    },
    {
      "cell_type": "code",
      "source": "lines = file.readlines()",
      "metadata": {
        "trusted": true
      },
      "outputs": [],
      "execution_count": 3
    },
    {
      "cell_type": "code",
      "source": "file.close()",
      "metadata": {
        "trusted": true
      },
      "outputs": [],
      "execution_count": 4
    },
    {
      "cell_type": "code",
      "source": "winners = {} # This variable stores the winning numbers.\ncards = {} # This variable stores the numbers you have.\nrow = 0 # This variable stores the row we are iterating over.\ncol = 0\nrownames = [] #This will store all of our row names.\nfor line in lines:\n    rowname = \"Card \" + str(row + 1)\n    winners[rowname] = line.split(\":\")[1].split(\"|\")[0].split()\n    for winnum in winners[rowname]:\n        winners[rowname][col] = int(winners[rowname][col])\n        col = col + 1\n    col = 0\n    cards[rowname] = line.split(\":\")[1].split(\"|\")[1].split()\n    for cnum in cards[rowname]:\n        cards[rowname][col] = int(cards[rowname][col])\n        col = col + 1\n    col = 0\n    row = row + 1",
      "metadata": {
        "trusted": true
      },
      "outputs": [],
      "execution_count": 5
    },
    {
      "cell_type": "code",
      "source": "carddf = pandas.DataFrame(cards)\nwinnerdf = pandas.DataFrame(winners)",
      "metadata": {
        "trusted": true
      },
      "outputs": [],
      "execution_count": 6
    },
    {
      "cell_type": "code",
      "source": "matches = {}\nfor col in winnerdf:\n    join = winnerdf.set_index(col).join(carddf.set_index(col), lsuffix='_winner', rsuffix='_inventory', how='inner')\n    matches[col] = pandas.Series(data=[len(join.index), 1], index=[\"matches\", \"copies\"])\n\nmatchesdf = pandas.DataFrame(matches)",
      "metadata": {
        "trusted": true
      },
      "outputs": [],
      "execution_count": 7
    },
    {
      "cell_type": "markdown",
      "source": "## Part 1",
      "metadata": {}
    },
    {
      "cell_type": "code",
      "source": "sum = 0\nfor series_name, series in matchesdf.items():\n    if series['matches'] > 0:\n        sum = sum + 2**(series['matches']-1)\nprint(sum)",
      "metadata": {
        "trusted": true
      },
      "outputs": [
        {
          "name": "stdout",
          "text": "15268\n",
          "output_type": "stream"
        }
      ],
      "execution_count": 8
    },
    {
      "cell_type": "markdown",
      "source": "## Part 2",
      "metadata": {}
    },
    {
      "cell_type": "code",
      "source": "card = 1\nfor series_name, series in matchesdf.items():\n    i = 1\n    while(i <= series['matches']):\n        if card + i <= len(matchesdf.columns):\n            matchesdf[\"Card \" + str(card + i)][\"copies\"] = matchesdf[\"Card \" + str(card + i)][\"copies\"] + matchesdf[\"Card \" + str(card)][\"copies\"]\n        i = i + 1\n    card = card + 1\nprint(matchesdf.T[\"copies\"].sum())",
      "metadata": {
        "trusted": true
      },
      "outputs": [
        {
          "name": "stdout",
          "text": "6283755\n",
          "output_type": "stream"
        }
      ],
      "execution_count": 9
    },
    {
      "cell_type": "code",
      "source": "",
      "metadata": {
        "trusted": true
      },
      "outputs": [],
      "execution_count": null
    }
  ]
}